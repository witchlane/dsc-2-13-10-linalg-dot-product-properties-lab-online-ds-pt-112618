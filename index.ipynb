{
 "cells": [
  {
   "cell_type": "markdown",
   "metadata": {},
   "source": [
    "# Properties of Dot Product - Lab"
   ]
  },
  {
   "cell_type": "markdown",
   "metadata": {},
   "source": [
    "## Introduction\n",
    "\n",
    "In this lab we shall look at some interesting properties of a Dot product type matrix multiplication. Understanding these properties will become useful as we move forward with machine learning advanced linear algebra. The lab will require you to calculate results to provide a proof for these properties.\n",
    "\n",
    "## Objectives\n",
    "You will be able to:\n",
    "* Understand and analytically explain Distributive, Commutative and Associative properties of dot product\n",
    "\n",
    "## Instructions\n",
    "\n",
    "* For each property, create suitably sized matrices with random data and prove the equations \n",
    "* Ensure that size/dimension assumptions are met while performing calculations (you'll see errors otherwise)\n",
    "* Calculate the LHS and RHS for all equations and show if they are equal or not"
   ]
  },
  {
   "cell_type": "markdown",
   "metadata": {},
   "source": [
    "## Distributive Property - Matrices multiplication is distributive\n",
    "### Prove that A.(B+C)=A.B+A.C"
   ]
  },
  {
   "cell_type": "code",
   "execution_count": 14,
   "metadata": {},
   "outputs": [
    {
     "name": "stdout",
     "output_type": "stream",
     "text": [
      "[[ 1  2  3]\n",
      " [ 4  5  6]\n",
      " [ 7  8  9]\n",
      " [10 11 12]]\n",
      "\n",
      " [[2]\n",
      " [3]\n",
      " [4]]\n",
      "\n",
      " [[5]\n",
      " [6]\n",
      " [7]]\n",
      "\n",
      " [[ 7]\n",
      " [ 9]\n",
      " [11]]\n",
      "\n",
      " [[ 58]\n",
      " [139]\n",
      " [220]\n",
      " [301]] \n",
      "\n",
      " [[ 58]\n",
      " [139]\n",
      " [220]\n",
      " [301]]\n",
      "[[ True]\n",
      " [ True]\n",
      " [ True]\n",
      " [ True]]\n"
     ]
    }
   ],
   "source": [
    "# Your code here\n",
    "\n",
    "import numpy as np\n",
    "A = np.array([[1,2,3],[4,5,6],[7,8,9],[10,11,12]])\n",
    "B = np.array([[2],[3],[4]])\n",
    "C = np.array([[5],[6],[7]])\n",
    "\n",
    "F = B+C\n",
    "D = A.dot(B+C)\n",
    "E = A.dot(B) + A.dot(C)\n",
    "\n",
    "print(A)\n",
    "print('\\n',B)\n",
    "print('\\n',C)\n",
    "print('\\n',F)\n",
    "\n",
    "print('\\n',D,'\\n\\n',E)\n",
    "\n",
    "print(D == E)"
   ]
  },
  {
   "cell_type": "markdown",
   "metadata": {},
   "source": [
    "## Associative Property - Matrices multiplication is associative\n",
    "### Prove that A.(B.C)=(A.B).C"
   ]
  },
  {
   "cell_type": "code",
   "execution_count": 15,
   "metadata": {},
   "outputs": [
    {
     "name": "stdout",
     "output_type": "stream",
     "text": [
      "[[1 2]\n",
      " [3 4]\n",
      " [5 6]\n",
      " [7 8]]\n",
      "\n",
      " [[2 2]\n",
      " [3 3]]\n",
      "\n",
      " [[4]\n",
      " [5]]\n",
      "\n",
      " [[ 8  8]\n",
      " [18 18]\n",
      " [28 28]\n",
      " [38 38]]\n",
      "[[ 72]\n",
      " [162]\n",
      " [252]\n",
      " [342]] \n",
      " [[ 72]\n",
      " [162]\n",
      " [252]\n",
      " [342]]\n",
      "[[ True]\n",
      " [ True]\n",
      " [ True]\n",
      " [ True]]\n"
     ]
    }
   ],
   "source": [
    "# Your code here \n",
    "import numpy as np\n",
    "\n",
    "A = np.array([[1,2],[3,4],[5,6],[7,8]])\n",
    "B = np.array([[2,2],[3,3]])\n",
    "C = np.array([[4],[5]])\n",
    "\n",
    "\n",
    "F = A.dot(B.dot(C))\n",
    "G = A.dot(B)\n",
    "H = G.dot(C)\n",
    "\n",
    "print(A)\n",
    "print('\\n',B)\n",
    "print('\\n',C)\n",
    "print('\\n',G)\n",
    "\n",
    "print(F,'\\n',H)\n",
    "\n",
    "print(F == H)"
   ]
  },
  {
   "cell_type": "markdown",
   "metadata": {},
   "source": [
    "## Commutative Property - Matrix multiplication is NOT commutative\n",
    "### Prove that for matrices, A.B ≠ B.A"
   ]
  },
  {
   "cell_type": "code",
   "execution_count": 18,
   "metadata": {},
   "outputs": [
    {
     "name": "stdout",
     "output_type": "stream",
     "text": [
      "[[1 2]\n",
      " [3 4]]\n",
      "[[2 2]\n",
      " [3 3]]\n",
      "[[ 8  8]\n",
      " [18 18]]\n",
      "\n",
      " [[ 8 12]\n",
      " [12 18]]\n",
      "[[ True False]\n",
      " [False  True]]\n"
     ]
    }
   ],
   "source": [
    "# Your code here \n",
    "A = np.array([[1,2],[3,4]])\n",
    "B = np.array([[2,2],[3,3]])\n",
    "\n",
    "\n",
    "print(A)\n",
    "print(B)\n",
    "C = A.dot(B)\n",
    "D = B.dot(A)\n",
    "\n",
    "print(C)\n",
    "print('\\n',D)\n",
    "print(C == D)"
   ]
  },
  {
   "cell_type": "markdown",
   "metadata": {},
   "source": [
    "## Commutative Property -  vector multiplication IS commutative\n",
    "### Prove that for vectors, x<sup>T</sup> . y = y<sup>T</sup> . x\n",
    "Note: superscipt<sup>T</sup> denotes the transpose we saw earlier"
   ]
  },
  {
   "cell_type": "code",
   "execution_count": 32,
   "metadata": {},
   "outputs": [
    {
     "name": "stdout",
     "output_type": "stream",
     "text": [
      "[[11 11]\n",
      " [16 16]]\n",
      "\n",
      " [[11 16]\n",
      " [11 16]] \n",
      "\n"
     ]
    },
    {
     "data": {
      "text/plain": [
       "array([[ True, False],\n",
       "       [False,  True]])"
      ]
     },
     "execution_count": 32,
     "metadata": {},
     "output_type": "execute_result"
    }
   ],
   "source": [
    "# Your code here \n",
    "x = np.array([[1,2],[3,4]])\n",
    "y = np.array([[2,2],[3,3]])\n",
    "\n",
    "x_transposed = x.T\n",
    "y_transposed = y.T\n",
    "\n",
    "left = x_transposed.dot(y)\n",
    "right = y_transposed.dot(x)\n",
    "\n",
    "print(left)\n",
    "print('\\n',right,'\\n')\n",
    "\n",
    "left == right"
   ]
  },
  {
   "cell_type": "code",
   "execution_count": 30,
   "metadata": {},
   "outputs": [
    {
     "name": "stdout",
     "output_type": "stream",
     "text": [
      "[[1 2]\n",
      " [3 4]]\n",
      "\n",
      " [[1 3]\n",
      " [2 4]]\n",
      "\n",
      " [[2 2]\n",
      " [3 3]]\n",
      "\n",
      " [[2 3]\n",
      " [2 3]]\n"
     ]
    }
   ],
   "source": [
    "x = np.array([[1,2],[3,4]])\n",
    "y = np.array([[2,2],[3,3]])\n",
    "\n",
    "x_transposed = x.T\n",
    "y_transposed = y.T\n",
    "\n",
    "print(x)\n",
    "print('\\n',x_transposed)\n",
    "\n",
    "print('\\n',y)\n",
    "print('\\n',y_transposed)"
   ]
  },
  {
   "cell_type": "markdown",
   "metadata": {},
   "source": [
    "#### and finally \n",
    "## Simplification of the matrix product\n",
    "### Prove that  (A.B)<sup>T</sup> = B<sup>T</sup> . A<sup>T</sup>"
   ]
  },
  {
   "cell_type": "code",
   "execution_count": 39,
   "metadata": {},
   "outputs": [
    {
     "name": "stdout",
     "output_type": "stream",
     "text": [
      "[[1 2]\n",
      " [3 4]\n",
      " [5 6]]\n",
      "\n",
      " [[1 3 5]\n",
      " [2 4 6]]\n",
      "\n",
      " [[2 2 2]\n",
      " [3 3 3]]\n",
      "\n",
      " [[2 3]\n",
      " [2 3]\n",
      " [2 3]]\n",
      "\n",
      " [[ 8  8  8]\n",
      " [18 18 18]\n",
      " [28 28 28]]\n",
      "\n",
      " [[ 8 18 28]\n",
      " [ 8 18 28]\n",
      " [ 8 18 28]]\n"
     ]
    },
    {
     "data": {
      "text/plain": [
       "array([[ True,  True,  True],\n",
       "       [ True,  True,  True],\n",
       "       [ True,  True,  True]])"
      ]
     },
     "execution_count": 39,
     "metadata": {},
     "output_type": "execute_result"
    }
   ],
   "source": [
    "A = np.array([[1,2],[3,4],[5,6]])\n",
    "B = np.array([[2,2,2],[3,3,3]])\n",
    "\n",
    "A_transposed = A.T\n",
    "B_transposed = B.T\n",
    "\n",
    "C = A.dot(B)\n",
    "C_transposed = C.T\n",
    "\n",
    "print(A)\n",
    "print('\\n',A_transposed)\n",
    "print('\\n',B)\n",
    "print('\\n',B_transposed)\n",
    "print('\\n',C)\n",
    "print('\\n',C_transposed)\n",
    "\n",
    "left = C_transposed\n",
    "right = B_transposed.dot(A_transposed)\n",
    "\n",
    "left == right"
   ]
  },
  {
   "cell_type": "markdown",
   "metadata": {},
   "source": [
    "## Summary \n",
    "\n",
    "So now we have seen enough matrix algebra to help us solve a problem of linear equations as we saw earlier in this section. We shall see how to do this next. "
   ]
  }
 ],
 "metadata": {
  "kernelspec": {
   "display_name": "learn-env",
   "language": "python",
   "name": "learn-env"
  },
  "language_info": {
   "codemirror_mode": {
    "name": "ipython",
    "version": 3
   },
   "file_extension": ".py",
   "mimetype": "text/x-python",
   "name": "python",
   "nbconvert_exporter": "python",
   "pygments_lexer": "ipython3",
   "version": "3.6.6"
  }
 },
 "nbformat": 4,
 "nbformat_minor": 2
}
